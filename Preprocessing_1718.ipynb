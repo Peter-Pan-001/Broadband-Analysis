{
 "cells": [
  {
   "cell_type": "code",
   "execution_count": 1,
   "metadata": {},
   "outputs": [],
   "source": [
    "import numpy as np\n",
    "import pandas as pd\n",
    "import matplotlib.pyplot as plt\n",
    "import seaborn as sns\n",
    "%matplotlib inline\n",
    "sns.set()"
   ]
  },
  {
   "cell_type": "code",
   "execution_count": 2,
   "metadata": {},
   "outputs": [],
   "source": [
    "curr_httpget = pd.read_csv('curr_httpget.csv')\n",
    "curr_httpgetmt = pd.read_csv('curr_httpgetmt.csv')\n",
    "curr_httppost = pd.read_csv('curr_httppost.csv')\n",
    "curr_httppostmt = pd.read_csv('curr_httppostmt.csv')\n",
    "#curr_httpget6 = pd.read_csv('curr_httpget6.csv')\n",
    "curr_httpgetmt6 = pd.read_csv('curr_httpgetmt6.csv')\n",
    "#curr_httppost6 = pd.read_csv('curr_httppost6.csv')\n",
    "curr_httppostmt6 = pd.read_csv('curr_httppostmt6.csv')\n",
    "\n",
    "ping = pd.read_csv('curr_ping.csv')\n",
    "udp = pd.read_csv('curr_udplatency.csv')\n",
    "udp6 = pd.read_csv('curr_udplatency6.csv')\n",
    "\n",
    "voice = pd.read_csv('curr_udpjitter.csv')\n",
    "#video = pd.read_csv('curr_videostream.csv')\n",
    "webget = pd.read_csv('curr_webget.csv')"
   ]
  },
  {
   "cell_type": "code",
   "execution_count": 3,
   "metadata": {},
   "outputs": [],
   "source": [
    "curr_httpget = curr_httpget[['unit_id', 'dtime', 'bytes_sec', 'threads', 'successes', 'failures']]\n",
    "curr_httpgetmt = curr_httpgetmt[['unit_id', 'dtime', 'bytes_sec', 'threads', 'successes', 'failures']]\n",
    "curr_httppost = curr_httppost[['unit_id', 'dtime', 'bytes_sec', 'threads', 'successes', 'failures']]\n",
    "curr_httppostmt = curr_httppostmt[['unit_id', 'dtime', 'bytes_sec', 'threads', 'successes', 'failures']]\n",
    "#curr_httpget6 = curr_httpget6[['unit_id', 'dtime', 'bytes_sec', 'threads', 'successes', 'failures']]\n",
    "curr_httpgetmt6 = curr_httpgetmt6[['unit_id', 'dtime', 'bytes_sec', 'threads', 'successes', 'failures']]\n",
    "#curr_httppost6 = curr_httppost6[['unit_id', 'dtime', 'bytes_sec', 'threads', 'successes', 'failures']]\n",
    "curr_httppostmt6 = curr_httppostmt6[['unit_id', 'dtime', 'bytes_sec', 'threads', 'successes', 'failures']]\n",
    "\n",
    "ping = ping[['unit_id', 'dtime', 'rtt_avg', 'rtt_std', 'successes', 'failures']]\n",
    "udp = udp[['unit_id', 'dtime', 'rtt_avg', 'rtt_std', 'successes', 'failures']]\n",
    "udp6 = udp6[['unit_id', 'dtime', 'rtt_avg', 'rtt_std', 'successes', 'failures']]\n",
    "\n",
    "voice = voice[['unit_id', 'dtime','successes', 'failures']]\n",
    "#video = video[['unit_id', 'dtime','successes', 'failures']]\n",
    "webget = webget[['unit_id', 'dtime','target', 'successes', 'failures']]"
   ]
  },
  {
   "cell_type": "code",
   "execution_count": 4,
   "metadata": {},
   "outputs": [],
   "source": [
    "year = '2017'\n",
    "month = '02'"
   ]
  },
  {
   "cell_type": "code",
   "execution_count": 5,
   "metadata": {},
   "outputs": [],
   "source": [
    "curr_httpget.to_csv('./{}-{}/curr_httpget.csv'.format(year,month))"
   ]
  },
  {
   "cell_type": "code",
   "execution_count": 6,
   "metadata": {},
   "outputs": [],
   "source": [
    "curr_httpgetmt.to_csv('./{}-{}/curr_httpgetmt.csv'.format(year,month))"
   ]
  },
  {
   "cell_type": "code",
   "execution_count": 7,
   "metadata": {},
   "outputs": [],
   "source": [
    "curr_httppost.to_csv('./{}-{}/curr_httppost.csv'.format(year,month))"
   ]
  },
  {
   "cell_type": "code",
   "execution_count": 8,
   "metadata": {},
   "outputs": [],
   "source": [
    "curr_httppostmt.to_csv('./{}-{}/curr_httppostmt.csv'.format(year,month))"
   ]
  },
  {
   "cell_type": "code",
   "execution_count": 9,
   "metadata": {},
   "outputs": [],
   "source": [
    "#curr_httpget6.to_csv('./{}-{}/curr_httpget6.csv'.format(year,month))"
   ]
  },
  {
   "cell_type": "code",
   "execution_count": 10,
   "metadata": {},
   "outputs": [],
   "source": [
    "curr_httpgetmt6.to_csv('./{}-{}/curr_httpgetmt6.csv'.format(year,month))"
   ]
  },
  {
   "cell_type": "code",
   "execution_count": 11,
   "metadata": {},
   "outputs": [],
   "source": [
    "#curr_httppost6.to_csv('./{}-{}/curr_httppost6.csv'.format(year,month))"
   ]
  },
  {
   "cell_type": "code",
   "execution_count": 12,
   "metadata": {},
   "outputs": [],
   "source": [
    "curr_httppostmt6.to_csv('./{}-{}/curr_httppostmt6.csv'.format(year,month))"
   ]
  },
  {
   "cell_type": "code",
   "execution_count": 13,
   "metadata": {},
   "outputs": [],
   "source": [
    "ping.to_csv('./{}-{}/ping.csv'.format(year,month))"
   ]
  },
  {
   "cell_type": "code",
   "execution_count": 14,
   "metadata": {},
   "outputs": [],
   "source": [
    "udp.to_csv('./{}-{}/udp.csv'.format(year,month))"
   ]
  },
  {
   "cell_type": "code",
   "execution_count": 15,
   "metadata": {},
   "outputs": [],
   "source": [
    "udp6.to_csv('./{}-{}/udp6.csv'.format(year,month))"
   ]
  },
  {
   "cell_type": "code",
   "execution_count": 16,
   "metadata": {},
   "outputs": [],
   "source": [
    "voice.to_csv('./{}-{}/voice.csv'.format(year,month))"
   ]
  },
  {
   "cell_type": "code",
   "execution_count": 17,
   "metadata": {},
   "outputs": [],
   "source": [
    "#video.to_csv('./{}-{}/video.csv'.format(year,month))"
   ]
  },
  {
   "cell_type": "code",
   "execution_count": 18,
   "metadata": {},
   "outputs": [],
   "source": [
    "webget.to_csv('./{}-{}/webget.csv'.format(year,month))"
   ]
  }
 ],
 "metadata": {
  "kernelspec": {
   "display_name": "Python 3",
   "language": "python",
   "name": "python3"
  },
  "language_info": {
   "codemirror_mode": {
    "name": "ipython",
    "version": 3
   },
   "file_extension": ".py",
   "mimetype": "text/x-python",
   "name": "python",
   "nbconvert_exporter": "python",
   "pygments_lexer": "ipython3",
   "version": "3.7.3"
  }
 },
 "nbformat": 4,
 "nbformat_minor": 2
}
