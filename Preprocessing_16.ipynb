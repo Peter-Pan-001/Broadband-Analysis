{
 "cells": [
  {
   "cell_type": "code",
   "execution_count": 1,
   "metadata": {},
   "outputs": [],
   "source": [
    "import numpy as np\n",
    "import pandas as pd\n",
    "import matplotlib.pyplot as plt\n",
    "import seaborn as sns\n",
    "%matplotlib inline\n",
    "sns.set()"
   ]
  },
  {
   "cell_type": "code",
   "execution_count": 2,
   "metadata": {},
   "outputs": [],
   "source": [
    "year = '2015'\n",
    "month = '03'"
   ]
  },
  {
   "cell_type": "code",
   "execution_count": null,
   "metadata": {},
   "outputs": [],
   "source": [
    "#curr_httpget = pd.read_csv('curr_httpget_{}_{}.csv'.format(year, month), header = None) \n",
    "curr_httpgetmt = pd.read_csv('curr_httpgetmt_{}_{}.csv'.format(year, month), header = None)\n",
    "#curr_httppost = pd.read_csv('curr_httppost_{}_{}.csv'.format(year, month), header = None)\n",
    "curr_httppostmt = pd.read_csv('curr_httppostmt_{}_{}.csv'.format(year, month), header = None)\n",
    "#curr_httpget6 = pd.read_csv('curr_httpget6_{}_{}.csv'.format(year, month), header = None)\n",
    "curr_httpgetmt6 = pd.read_csv('curr_httpgetmt6_{}_{}.csv'.format(year, month), header = None)\n",
    "#curr_httppost6 = pd.read_csv('curr_httppost6_{}_{}.csv'.format(year, month), header = None)\n",
    "curr_httppostmt6 = pd.read_csv('curr_httppostmt6_{}_{}.csv'.format(year, month), header = None)\n",
    "\n",
    "                            \n",
    "#curr_httpget.columns = ['unit_id','dtime','target','address','fetchtime','bytes_total','bytes_sec','0','0','0','0',\n",
    "#                       'threads','successes', 'failures','location_id']\n",
    "curr_httpgetmt.columns = ['unit_id','dtime','target','address','fetchtime','bytes_total','bytes_sec','0','0','0','0',\n",
    "                       'threads','successes', 'failures','location_id']\n",
    "#curr_httppost.columns = ['unit_id','dtime','target','address','fetchtime','bytes_total','bytes_sec','0','0','0','0',\n",
    "#                       'threads','successes', 'failures','location_id']\n",
    "curr_httppostmt.columns = ['unit_id','dtime','target','address','fetchtime','bytes_total','bytes_sec','0','0','0','0',\n",
    "                       'threads','successes', 'failures','location_id']\n",
    "curr_httpgetmt6.columns = ['unit_id','dtime','target','address','fetchtime','bytes_total','bytes_sec','0','0','0','0',\n",
    "                       'threads','successes', 'failures','location_id']\n",
    "curr_httppostmt6.columns = ['unit_id','dtime','target','address','fetchtime','bytes_total','bytes_sec','0','0','0','0',\n",
    "                       'threads','successes', 'failures','location_id']"
   ]
  },
  {
   "cell_type": "code",
   "execution_count": null,
   "metadata": {},
   "outputs": [],
   "source": [
    "ping = pd.read_csv('curr_ping_{}_{}.csv'.format(year, month), header = None)\n",
    "udp = pd.read_csv('curr_udplatency_{}_{}.csv'.format(year, month), header = None)\n",
    "udp6 = pd.read_csv('curr_udplatency6_{}_{}.csv'.format(year, month), header = None)\n",
    "\n",
    "ping.columns = ['unit_id','dtime','target','rtt_avg','0','0','rtt_std','successes', 'failures','location_id']\n",
    "udp.columns = ['unit_id','dtime','target','rtt_avg','0','0','rtt_std','successes', 'failures','location_id']\n",
    "udp6.columns = ['unit_id','dtime','target','rtt_avg','0','0','rtt_std','successes', 'failures','location_id']\n"
   ]
  },
  {
   "cell_type": "code",
   "execution_count": null,
   "metadata": {},
   "outputs": [],
   "source": [
    "voice = pd.read_csv('curr_udpjitter_{}_{}.csv'.format(year, month), header = None)\n",
    "webget = pd.read_csv('curr_webget_{}_{}.csv'.format(year, month), header = None)\n",
    "\n",
    "voice.columns = ['unit_id','dtime','0','0','0','0','0','0','0','0','0','0','0','successes', 'failures','location_id']\n",
    "webget.columns = ['unit_id','dtime','target','0','0','0','0','0','0','0','0','0','0',\\\n",
    "                  '0','0','0','0','0','0','0','0','0','0','0','0','successes','failures','location_id']"
   ]
  },
  {
   "cell_type": "code",
   "execution_count": null,
   "metadata": {},
   "outputs": [],
   "source": [
    "#curr_httpget = curr_httpget[['unit_id', 'dtime', 'bytes_sec', 'threads', 'successes', 'failures']]\n",
    "curr_httpgetmt = curr_httpgetmt[['unit_id', 'dtime', 'bytes_sec', 'threads', 'successes', 'failures']]\n",
    "#curr_httppost = curr_httppost[['unit_id', 'dtime', 'bytes_sec', 'threads', 'successes', 'failures']]\n",
    "curr_httppostmt = curr_httppostmt[['unit_id', 'dtime', 'bytes_sec', 'threads', 'successes', 'failures']]\n",
    "#curr_httpget6 = curr_httpget6[['unit_id', 'dtime', 'bytes_sec', 'threads', 'successes', 'failures']]\n",
    "curr_httpgetmt6 = curr_httpgetmt6[['unit_id', 'dtime', 'bytes_sec', 'threads', 'successes', 'failures']]\n",
    "#curr_httppost6 = curr_httppost6[['unit_id', 'dtime', 'bytes_sec', 'threads', 'successes', 'failures']]\n",
    "curr_httppostmt6 = curr_httppostmt6[['unit_id', 'dtime', 'bytes_sec', 'threads', 'successes', 'failures']]\n",
    "\n",
    "ping = ping[['unit_id', 'dtime', 'rtt_avg', 'rtt_std', 'successes', 'failures']]\n",
    "udp = udp[['unit_id', 'dtime', 'rtt_avg', 'rtt_std', 'successes', 'failures']]\n",
    "udp6 = udp6[['unit_id', 'dtime', 'rtt_avg', 'rtt_std', 'successes', 'failures']]\n",
    "\n",
    "voice = voice[['unit_id', 'dtime','successes', 'failures']]\n",
    "webget = webget[['unit_id', 'dtime','target', 'successes', 'failures']]"
   ]
  },
  {
   "cell_type": "code",
   "execution_count": null,
   "metadata": {},
   "outputs": [],
   "source": [
    "year = '2015'\n",
    "month = '03'"
   ]
  },
  {
   "cell_type": "code",
   "execution_count": null,
   "metadata": {},
   "outputs": [],
   "source": [
    "#curr_httpget.to_csv('./{}-{}/curr_httpget.csv'.format(year,month))"
   ]
  },
  {
   "cell_type": "code",
   "execution_count": null,
   "metadata": {},
   "outputs": [],
   "source": [
    "curr_httpgetmt.to_csv('./{}-{}/curr_httpgetmt.csv'.format(year,month))"
   ]
  },
  {
   "cell_type": "code",
   "execution_count": null,
   "metadata": {},
   "outputs": [],
   "source": [
    "#curr_httppost.to_csv('./{}-{}/curr_httppost.csv'.format(year,month))"
   ]
  },
  {
   "cell_type": "code",
   "execution_count": null,
   "metadata": {},
   "outputs": [],
   "source": [
    "curr_httppostmt.to_csv('./{}-{}/curr_httppostmt.csv'.format(year,month))"
   ]
  },
  {
   "cell_type": "code",
   "execution_count": null,
   "metadata": {},
   "outputs": [],
   "source": [
    "#curr_httpget6.to_csv('./{}-{}/curr_httpget6.csv'.format(year,month))"
   ]
  },
  {
   "cell_type": "code",
   "execution_count": null,
   "metadata": {},
   "outputs": [],
   "source": [
    "curr_httpgetmt6.to_csv('./{}-{}/curr_httpgetmt6.csv'.format(year,month))"
   ]
  },
  {
   "cell_type": "code",
   "execution_count": null,
   "metadata": {},
   "outputs": [],
   "source": [
    "#curr_httppost6.to_csv('./{}-{}/curr_httppost6.csv'.format(year,month))"
   ]
  },
  {
   "cell_type": "code",
   "execution_count": null,
   "metadata": {},
   "outputs": [],
   "source": [
    "curr_httppostmt6.to_csv('./{}-{}/curr_httppostmt6.csv'.format(year,month))"
   ]
  },
  {
   "cell_type": "code",
   "execution_count": null,
   "metadata": {},
   "outputs": [],
   "source": [
    "ping.to_csv('./{}-{}/ping.csv'.format(year,month))"
   ]
  },
  {
   "cell_type": "code",
   "execution_count": null,
   "metadata": {},
   "outputs": [],
   "source": [
    "udp.to_csv('./{}-{}/udp.csv'.format(year,month))"
   ]
  },
  {
   "cell_type": "code",
   "execution_count": null,
   "metadata": {},
   "outputs": [],
   "source": [
    "udp6.to_csv('./{}-{}/udp6.csv'.format(year,month))"
   ]
  },
  {
   "cell_type": "code",
   "execution_count": null,
   "metadata": {},
   "outputs": [],
   "source": [
    "voice.to_csv('./{}-{}/voice.csv'.format(year,month))"
   ]
  },
  {
   "cell_type": "code",
   "execution_count": null,
   "metadata": {},
   "outputs": [],
   "source": [
    "#video.to_csv('./{}-{}/video.csv'.format(year,month))"
   ]
  },
  {
   "cell_type": "code",
   "execution_count": null,
   "metadata": {},
   "outputs": [],
   "source": [
    "webget.to_csv('./{}-{}/webget.csv'.format(year,month))"
   ]
  },
  {
   "cell_type": "code",
   "execution_count": null,
   "metadata": {},
   "outputs": [],
   "source": []
  }
 ],
 "metadata": {
  "kernelspec": {
   "display_name": "Python 3",
   "language": "python",
   "name": "python3"
  },
  "language_info": {
   "codemirror_mode": {
    "name": "ipython",
    "version": 3
   },
   "file_extension": ".py",
   "mimetype": "text/x-python",
   "name": "python",
   "nbconvert_exporter": "python",
   "pygments_lexer": "ipython3",
   "version": "3.7.3"
  }
 },
 "nbformat": 4,
 "nbformat_minor": 2
}
